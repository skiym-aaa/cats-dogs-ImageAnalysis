{
 "cells": [
  {
   "cell_type": "code",
   "execution_count": 1,
   "metadata": {},
   "outputs": [],
   "source": [
    "%matplotlib inline"
   ]
  },
  {
   "cell_type": "code",
   "execution_count": 2,
   "metadata": {},
   "outputs": [],
   "source": [
    "import numpy as np\n",
    "import pandas as pd\n",
    "import matplotlib.pyplot as plt\n",
    "from PIL import Image"
   ]
  },
  {
   "cell_type": "code",
   "execution_count": 3,
   "metadata": {},
   "outputs": [],
   "source": [
    "from chainer.datasets import LabeledImageDataset\n",
    "from chainercv.transforms import resize\n",
    "from chainer.datasets import TransformDataset"
   ]
  },
  {
   "cell_type": "code",
   "execution_count": 4,
   "metadata": {},
   "outputs": [],
   "source": [
    "def transform(in_data):\n",
    "    img, label = in_data\n",
    "\n",
    "    img = resize(img, (224, 224))\n",
    "\n",
    "    return img, label"
   ]
  },
  {
   "cell_type": "code",
   "execution_count": 5,
   "metadata": {},
   "outputs": [],
   "source": [
    "train = LabeledImageDataset('data/train/train_labels.txt', 'data/train/images')\n",
    "train = TransformDataset(train, transform)\n",
    "\n",
    "valid = LabeledImageDataset('data/valid/valid_labels.txt', 'data/valid/images')\n",
    "valid = TransformDataset(valid, transform)"
   ]
  },
  {
   "cell_type": "code",
   "execution_count": 6,
   "metadata": {},
   "outputs": [],
   "source": [
    "import chainer\n",
    "import chainer.links as L\n",
    "import chainer.functions as F"
   ]
  },
  {
   "cell_type": "code",
   "execution_count": 7,
   "metadata": {},
   "outputs": [],
   "source": [
    "class CNN(chainer.Chain):\n",
    "    \n",
    "    def __init__(self, n_mid_units1=224, n_out=2):\n",
    "        super().__init__()\n",
    "        with self.init_scope():\n",
    "\n",
    "            self.conv = L.Convolution2D(None, 3, ksize=3, pad=1)\n",
    "\n",
    "            self.fc1 = L.Linear(None,n_mid_units1)\n",
    "\n",
    "            self.fc2 = L.Linear(None,n_out)\n",
    "    \n",
    "    def __call__(self, x):\n",
    "\n",
    "        h = self.conv(x)\n",
    "\n",
    "        h = self.fc1(h)\n",
    "\n",
    "        h = F.relu(h)\n",
    "\n",
    "        h = self.fc2(h)\n",
    "\n",
    "        return h"
   ]
  },
  {
   "cell_type": "code",
   "execution_count": 8,
   "metadata": {},
   "outputs": [],
   "source": [
    "nn = CNN()\n",
    "model = L.Classifier(nn)"
   ]
  },
  {
   "cell_type": "code",
   "execution_count": 9,
   "metadata": {},
   "outputs": [],
   "source": [
    "from chainer import training\n",
    "from chainer.training import extensions"
   ]
  },
  {
   "cell_type": "code",
   "execution_count": 10,
   "metadata": {},
   "outputs": [
    {
     "data": {
      "text/plain": [
       "<chainer.optimizers.adam.Adam at 0x81bc67610>"
      ]
     },
     "execution_count": 10,
     "metadata": {},
     "output_type": "execute_result"
    }
   ],
   "source": [
    "optimizer = chainer.optimizers.Adam()\n",
    "optimizer.setup(model)"
   ]
  },
  {
   "cell_type": "code",
   "execution_count": 11,
   "metadata": {},
   "outputs": [],
   "source": [
    "batchsize = 1\n",
    "train_iter = chainer.iterators.SerialIterator(train, batchsize)\n",
    "valid_iter = chainer.iterators.SerialIterator(valid, batchsize, repeat=False,shuffle=False)"
   ]
  },
  {
   "cell_type": "code",
   "execution_count": 12,
   "metadata": {},
   "outputs": [],
   "source": [
    "updater = training.StandardUpdater(train_iter, optimizer)"
   ]
  },
  {
   "cell_type": "code",
   "execution_count": 13,
   "metadata": {},
   "outputs": [],
   "source": [
    "epoch = 5\n",
    "\n",
    "trainer = training.Trainer(updater, (epoch, 'epoch'), out='result') \n",
    "\n",
    "trainer.extend(extensions.Evaluator(valid_iter, model, device=-1))\n",
    "\n",
    "trainer.extend(extensions.LogReport(trigger=(1,'epoch')))\n",
    "trainer.extend(extensions.PrintReport(['epoch', 'main/accuracy', 'validation/main/accuracy', 'main/loss','validation/main/loss','elapsed_time']), trigger=(1,'epoch'))"
   ]
  },
  {
   "cell_type": "code",
   "execution_count": 14,
   "metadata": {},
   "outputs": [
    {
     "name": "stdout",
     "output_type": "stream",
     "text": [
      "epoch       main/accuracy  validation/main/accuracy  main/loss   validation/main/loss  elapsed_time\n",
      "\u001b[J1           0.442857       0.5                       19291       7827.74               69.1169       \n",
      "\u001b[J2           0.557143       0.5                       2944.21     734.264               134.695       \n",
      "\u001b[J3           0.785714       0.466667                  439.648     993.79                198.896       \n",
      "\u001b[J4           0.8            0.5                       551.481     815.064               264.305       \n",
      "\u001b[J5           0.742857       0.466667                  802.563     3011.9                330.206       \n"
     ]
    }
   ],
   "source": [
    "trainer.run()"
   ]
  },
  {
   "cell_type": "code",
   "execution_count": null,
   "metadata": {},
   "outputs": [],
   "source": []
  }
 ],
 "metadata": {
  "kernelspec": {
   "display_name": "Python 3",
   "language": "python",
   "name": "python3"
  },
  "language_info": {
   "codemirror_mode": {
    "name": "ipython",
    "version": 3
   },
   "file_extension": ".py",
   "mimetype": "text/x-python",
   "name": "python",
   "nbconvert_exporter": "python",
   "pygments_lexer": "ipython3",
   "version": "3.7.6"
  }
 },
 "nbformat": 4,
 "nbformat_minor": 4
}
